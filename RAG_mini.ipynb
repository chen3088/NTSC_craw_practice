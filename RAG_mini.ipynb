{
 "cells": [
  {
   "cell_type": "code",
   "execution_count": 22,
   "id": "88f12c4a",
   "metadata": {},
   "outputs": [
    {
     "name": "stdout",
     "output_type": "stream",
     "text": [
      "資料筆數：298\n"
     ]
    },
    {
     "data": {
      "text/html": [
       "<div>\n",
       "<style scoped>\n",
       "    .dataframe tbody tr th:only-of-type {\n",
       "        vertical-align: middle;\n",
       "    }\n",
       "\n",
       "    .dataframe tbody tr th {\n",
       "        vertical-align: top;\n",
       "    }\n",
       "\n",
       "    .dataframe thead th {\n",
       "        text-align: right;\n",
       "    }\n",
       "</style>\n",
       "<table border=\"1\" class=\"dataframe\">\n",
       "  <thead>\n",
       "    <tr style=\"text-align: right;\">\n",
       "      <th></th>\n",
       "      <th>職缺名稱</th>\n",
       "      <th>發佈日期</th>\n",
       "      <th>連結</th>\n",
       "      <th>詳細內容</th>\n",
       "    </tr>\n",
       "  </thead>\n",
       "  <tbody>\n",
       "    <tr>\n",
       "      <th>0</th>\n",
       "      <td>本會網站「求才訊息」免責聲明</td>\n",
       "      <td>2016-08-24</td>\n",
       "      <td>https://www.nstc.gov.tw/folksonomy/detail/b4a0...</td>\n",
       "      <td>(一)本會網站「求才訊息」內容由受本會補助之大專院校及研究機關(構)或其所屬之研究人員所刊登...</td>\n",
       "    </tr>\n",
       "    <tr>\n",
       "      <th>1</th>\n",
       "      <td>國立臺灣科技大學產學營運智財技轉中心-智權管理師一名(計畫人員)</td>\n",
       "      <td>2025-07-22</td>\n",
       "      <td>https://www.nstc.gov.tw/folksonomy/detail/201c...</td>\n",
       "      <td>工作項目：\\n1.工程、應科、人文學院下列案件業務辦理與收益分配\\n專利授權、讓與、技術移轉...</td>\n",
       "    </tr>\n",
       "    <tr>\n",
       "      <th>2</th>\n",
       "      <td>臺中榮民總醫院 細胞治療與再生醫學中心實驗室  徵求專任研究助理2名</td>\n",
       "      <td>2025-07-22</td>\n",
       "      <td>https://www.nstc.gov.tw/folksonomy/detail/34c2...</td>\n",
       "      <td>【應徵要求】\\n1. 工作經歷：不拘\\n2. 國內、外大學生命科學、生物學、醫技系、醫藥衛生...</td>\n",
       "    </tr>\n",
       "    <tr>\n",
       "      <th>3</th>\n",
       "      <td>中國醫藥大學生化暨分子生物研究所 張瓊文老師實驗室博士後研究員</td>\n",
       "      <td>2025-07-22</td>\n",
       "      <td>https://www.nstc.gov.tw/folksonomy/detail/719b...</td>\n",
       "      <td>中國醫藥大學生化暨分子生物研究所 張瓊文老師實驗室博士後研究員\\n【職缺名稱】國科會補助研究...</td>\n",
       "    </tr>\n",
       "    <tr>\n",
       "      <th>4</th>\n",
       "      <td>國立中正大學管理學院金融科技碩士學位學程誠徵專任教師</td>\n",
       "      <td>2025-07-22</td>\n",
       "      <td>https://www.nstc.gov.tw/folksonomy/detail/1c13...</td>\n",
       "      <td>一、徵聘職級及員額: 助理教授級(含)以上師資1名\\n二、起聘日期: 民國 115年2月1日...</td>\n",
       "    </tr>\n",
       "  </tbody>\n",
       "</table>\n",
       "</div>"
      ],
      "text/plain": [
       "                                 職缺名稱        發佈日期  \\\n",
       "0                      本會網站「求才訊息」免責聲明  2016-08-24   \n",
       "1    國立臺灣科技大學產學營運智財技轉中心-智權管理師一名(計畫人員)  2025-07-22   \n",
       "2  臺中榮民總醫院 細胞治療與再生醫學中心實驗室  徵求專任研究助理2名  2025-07-22   \n",
       "3     中國醫藥大學生化暨分子生物研究所 張瓊文老師實驗室博士後研究員  2025-07-22   \n",
       "4          國立中正大學管理學院金融科技碩士學位學程誠徵專任教師  2025-07-22   \n",
       "\n",
       "                                                  連結  \\\n",
       "0  https://www.nstc.gov.tw/folksonomy/detail/b4a0...   \n",
       "1  https://www.nstc.gov.tw/folksonomy/detail/201c...   \n",
       "2  https://www.nstc.gov.tw/folksonomy/detail/34c2...   \n",
       "3  https://www.nstc.gov.tw/folksonomy/detail/719b...   \n",
       "4  https://www.nstc.gov.tw/folksonomy/detail/1c13...   \n",
       "\n",
       "                                                詳細內容  \n",
       "0  (一)本會網站「求才訊息」內容由受本會補助之大專院校及研究機關(構)或其所屬之研究人員所刊登...  \n",
       "1  工作項目：\\n1.工程、應科、人文學院下列案件業務辦理與收益分配\\n專利授權、讓與、技術移轉...  \n",
       "2  【應徵要求】\\n1. 工作經歷：不拘\\n2. 國內、外大學生命科學、生物學、醫技系、醫藥衛生...  \n",
       "3  中國醫藥大學生化暨分子生物研究所 張瓊文老師實驗室博士後研究員\\n【職缺名稱】國科會補助研究...  \n",
       "4  一、徵聘職級及員額: 助理教授級(含)以上師資1名\\n二、起聘日期: 民國 115年2月1日...  "
      ]
     },
     "execution_count": 22,
     "metadata": {},
     "output_type": "execute_result"
    }
   ],
   "source": [
    "# 📄 載入 CSV 檔案\n",
    "import pandas as pd\n",
    "\n",
    "file_path = \"nstc_jobs_partial.csv\"\n",
    "df = pd.read_csv(file_path)\n",
    "\n",
    "# 檢查資料\n",
    "df = df.dropna(subset=[\"職缺名稱\", \"發佈日期\", \"連結\", \"詳細內容\"])\n",
    "print(f\"資料筆數：{len(df)}\")\n",
    "df.head()"
   ]
  },
  {
   "cell_type": "code",
   "execution_count": 23,
   "id": "bcd999f4",
   "metadata": {},
   "outputs": [],
   "source": [
    "# 🧩 整合欄位：將職缺名稱、發佈日期與詳細內容合併為單一文字欄位\n",
    "texts = [\n",
    "    f\"職缺名稱：{row['職缺名稱']}\\n發佈日期：{row['發佈日期']}\\n詳細內容：\\n{row['詳細內容']}\"\n",
    "    for _, row in df.iterrows()\n",
    "]"
   ]
  },
  {
   "cell_type": "code",
   "execution_count": 24,
   "id": "f20072bd",
   "metadata": {},
   "outputs": [],
   "source": [
    "metadatas = [\n",
    "    {\n",
    "        \"職缺名稱\": row[\"職缺名稱\"],\n",
    "        \"連結\": row[\"連結\"]\n",
    "    }\n",
    "    for _, row in df.iterrows()\n",
    "]"
   ]
  },
  {
   "cell_type": "code",
   "execution_count": 25,
   "id": "dfb2989b",
   "metadata": {},
   "outputs": [],
   "source": [
    "import langchain\n",
    "# 🔗 封裝成 LangChain 的 Document 格式\n",
    "from langchain.docstore.document import Document\n",
    "\n",
    "docs = [\n",
    "    Document(page_content=text, metadata=meta)\n",
    "    for text, meta in zip(texts, metadatas)\n",
    "]\n"
   ]
  },
  {
   "cell_type": "code",
   "execution_count": 26,
   "id": "60e6f643",
   "metadata": {},
   "outputs": [
    {
     "name": "stdout",
     "output_type": "stream",
     "text": [
      "段落 1:\n",
      "職缺名稱：本會網站「求才訊息」免責聲明\n",
      "發佈日期：2016-08-24\n",
      "詳細內容：\n",
      "(一)本會網站「求才訊息」內容由受本會補助之大專院校及研究機關(構)或其所屬之研究人員所刊登(以下簡稱訊息刊登者)，本會僅提供訊息轉載之資訊服務平台，不對刊登內容進行任何背書與保證。\n",
      "(二)本會已要求訊息刊登者應提供詳實真確之資訊，並請訊息刊登者對其所刊登內容負完全責任，惟求才訊息使用人(以下簡稱訊息使用人)亦應負...\n",
      "\n",
      "來自職缺：本會網站「求才訊息」免責聲明\n",
      "原始連結：https://www.nstc.gov.tw/folksonomy/detail/b4a0bc0a-cdb8-4264-9ee6-cdfe68508d93?l=ch\n",
      "---\n",
      "\n",
      "段落 2:\n",
      "(四)本會保留隨時更新本免責聲明的權利，任何更改於本網站發佈時，立即生效。請訊息使用人於每次瀏覽本網站「求才訊息」時，務必查看此免責聲明。如訊息使用人繼續使用本網站「求才訊息」，即代表訊息使用人同意接受更改後的免責聲明約束。...\n",
      "\n",
      "來自職缺：本會網站「求才訊息」免責聲明\n",
      "原始連結：https://www.nstc.gov.tw/folksonomy/detail/b4a0bc0a-cdb8-4264-9ee6-cdfe68508d93?l=ch\n",
      "---\n",
      "\n",
      "段落 3:\n",
      "職缺名稱：國立臺灣科技大學產學營運智財技轉中心-智權管理師一名(計畫人員)\n",
      "發佈日期：2025-07-22\n",
      "詳細內容：\n",
      "工作項目：\n",
      "1.工程、應科、人文學院下列案件業務辦理與收益分配\n",
      "專利授權、讓與、技術移轉案。\n",
      "產學合作案含技術移轉金。\n",
      "國科會先期技轉案上繳。\n",
      "2.產學案、專利授權案分期應收權利金與衍生利益金之盤點與追蹤、分配。\n",
      "3.協助校內外技轉績效、技專校院資料庫填報、校內技轉法規與合約修訂...\n",
      "\n",
      "來自職缺：國立臺灣科技大學產學營運智財技轉中心-智權管理師一名(計畫人員)\n",
      "原始連結：https://www.nstc.gov.tw/folksonomy/detail/201c6238-e246-4096-8ffe-2ef3440d95bf?l=ch\n",
      "---\n",
      "\n"
     ]
    }
   ],
   "source": [
    "# ✂️ 切割長文本成多段 chunk\n",
    "from langchain.text_splitter import RecursiveCharacterTextSplitter\n",
    "\n",
    "splitter = RecursiveCharacterTextSplitter(chunk_size=300, chunk_overlap=30)\n",
    "split_docs = splitter.split_documents(docs)\n",
    "\n",
    "# 檢查切割後的段落\n",
    "for i, doc in enumerate(split_docs[:3]):\n",
    "    print(f\"段落 {i+1}:\")\n",
    "    print(doc.page_content[:200] + \"...\\n\")\n",
    "    print(f\"來自職缺：{doc.metadata['職缺名稱']}\")\n",
    "    print(f\"原始連結：{doc.metadata['連結']}\\n---\\n\")\n"
   ]
  },
  {
   "cell_type": "code",
   "execution_count": 27,
   "id": "360f1629",
   "metadata": {},
   "outputs": [
    {
     "data": {
      "application/vnd.jupyter.widget-view+json": {
       "model_id": "10b0c90b56d94e43ba7f52b278a93b30",
       "version_major": 2,
       "version_minor": 0
      },
      "text/plain": [
       "Batches:   0%|          | 0/35 [00:00<?, ?it/s]"
      ]
     },
     "metadata": {},
     "output_type": "display_data"
    }
   ],
   "source": [
    "# 1️⃣ 導入模型\n",
    "from sentence_transformers import SentenceTransformer\n",
    "\n",
    "# 使用 MiniLM 模型（也可改為 paraphrase-multilingual-MiniLM-L12-v2）\n",
    "embedding_model = SentenceTransformer('all-MiniLM-L6-v2')\n",
    "\n",
    "# 2️⃣ 將所有 chunk 的內容轉成 embedding 向量\n",
    "texts_for_embedding = [doc.page_content for doc in split_docs]\n",
    "embeddings = embedding_model.encode(texts_for_embedding, show_progress_bar=True)\n"
   ]
  },
  {
   "cell_type": "code",
   "execution_count": 28,
   "id": "b4a19033",
   "metadata": {},
   "outputs": [],
   "source": [
    "# 1️⃣ 建立 FAISS Index\n",
    "import faiss\n",
    "import numpy as np\n",
    "\n",
    "embedding_dim = embeddings.shape[1]\n",
    "index = faiss.IndexFlatL2(embedding_dim)\n",
    "index.add(np.array(embeddings))\n",
    "\n",
    "# 2️⃣ 保留 metadata 與 split_docs 做配對用\n",
    "# 將每個 index 對應的 chunk 存進 list\n",
    "indexed_docs = split_docs\n"
   ]
  },
  {
   "cell_type": "code",
   "execution_count": 32,
   "id": "76c1d54b",
   "metadata": {},
   "outputs": [],
   "source": [
    "def rag_query(query, top_k=5):\n",
    "    query_embedding = embedding_model.encode([query])\n",
    "    D, I = index.search(np.array(query_embedding), top_k)\n",
    "\n",
    "    retrieved_docs = [indexed_docs[i] for i in I[0]]\n",
    "\n",
    "    print(f\"🔍 問題：{query}\\n\")\n",
    "    print(\"📌 找到的相關職缺：\\n\")\n",
    "\n",
    "    for i, doc in enumerate(retrieved_docs):\n",
    "        title = doc.metadata[\"職缺名稱\"]\n",
    "        link = doc.metadata[\"連結\"]\n",
    "        snippet = doc.page_content.strip().replace(\"\\n\", \" \")\n",
    "        if len(snippet) > 200:\n",
    "            snippet = snippet[:200] + \"...\"\n",
    "\n",
    "        print(f\"{i+1}. 🧾 {title}\")\n",
    "        print(f\"🔗 連結：{link}\")\n",
    "        print(f\"📝 摘要：{snippet}\")\n",
    "        print(\"---\\n\")\n"
   ]
  },
  {
   "cell_type": "code",
   "execution_count": 33,
   "id": "3f7d72f7",
   "metadata": {},
   "outputs": [
    {
     "name": "stdout",
     "output_type": "stream",
     "text": [
      "🔍 問題：有提供勞保的職缺有哪些？\n",
      "\n",
      "📌 找到的相關職缺：\n",
      "\n",
      "1. 🧾 銘傳大學電腦與通訊工程學系誠徵兼任講師(含)以上教師1名\n",
      "🔗 連結：https://www.nstc.gov.tw/folksonomy/detail/06eb9d08-abe0-47ee-888a-97ff1f50b10f?l=ch\n",
      "📝 摘要：十、其他說明： 1.(本徵才公告蒐集之個人資料，僅限於人才甄選作業使用，非經當事人同意，絕不轉做其他用途，亦不會公佈任何資訊，並遵循本校資料保存與安  全控管辦理(詳細個資管理可參閱「銘傳大學個人資料保護管理要點」與「銘傳大學個人資料保護專區」http://pims.mcu.edu.tw)。 發佈日期：2025-07-08 00:00:00\n",
      "---\n",
      "\n",
      "2. 🧾 銘傳大學資訊工程學系誠徵兼任講師(含)以上教師2名\n",
      "🔗 連結：https://www.nstc.gov.tw/folksonomy/detail/99cf938a-08b6-4c91-b80f-d56e2f9336c6?l=ch\n",
      "📝 摘要：十、其他說明： 1.(本徵才公告蒐集之個人資料，僅限於人才甄選作業使用，非經當事人同意，絕不轉做其他用途，亦不會公佈任何資訊，並遵循本校資料保存與安  全控管辦理(詳細個資管理可參閱「銘傳大學個人資料保護管理要點」與「銘傳大學個人資料保護專區」http://pims.mcu.edu.tw)。 發佈日期：2025-07-09 00:00:00\n",
      "---\n",
      "\n",
      "3. 🧾 銘傳大學資訊工程學系誠徵專任或專案助理教授以上教師1名\n",
      "🔗 連結：https://www.nstc.gov.tw/folksonomy/detail/e93dd151-a979-402f-bad5-000b03f727e7?l=ch\n",
      "📝 摘要：十、其他說明： 1.(本徵才公告蒐集之個人資料，僅限於人才甄選作業使用，非經當事人同意，絕不轉做其他用途，亦不會公佈任何資訊，並遵循本校資料保存與安  全控管辦理(詳細個資管理可參閱「銘傳大學個人資料保護管理要點」與「銘傳大學個人資料保護專區」http://pims.mcu.edu.tw)。 發佈日期：2025-07-09 00:00:00\n",
      "---\n",
      "\n",
      "4. 🧾 中國醫藥大學 癌症生物精準醫學研究中心  王紹椿老師實驗室 誠徵 博士後研究員\n",
      "🔗 連結：https://www.nstc.gov.tw/folksonomy/detail/701ca4f1-a9f5-4a61-9b66-c4cf60f5c093?l=ch\n",
      "📝 摘要：歡迎對癌症研究有興趣的夥伴加入我們的團隊！ 發佈日期：2025-07-14 00:00:00\n",
      "---\n",
      "\n",
      "5. 🧾 中國醫藥大學 癌症生物精準醫學研究中心  王紹椿老師實驗室 誠徵 碩士級研究助理\n",
      "🔗 連結：https://www.nstc.gov.tw/folksonomy/detail/2521ae27-55c0-4f27-9ded-b4bc908c1aff?l=ch\n",
      "📝 摘要：歡迎對癌症研究有興趣的夥伴加入我們的團隊！ 發佈日期：2025-07-14 00:00:00\n",
      "---\n",
      "\n"
     ]
    }
   ],
   "source": [
    "rag_query(\"有提供勞保的職缺有哪些？\")"
   ]
  },
  {
   "cell_type": "code",
   "execution_count": null,
   "id": "add7e15a",
   "metadata": {},
   "outputs": [],
   "source": []
  }
 ],
 "metadata": {
  "kernelspec": {
   "display_name": "Python 3 (ipykernel)",
   "language": "python",
   "name": "python3"
  },
  "language_info": {
   "codemirror_mode": {
    "name": "ipython",
    "version": 3
   },
   "file_extension": ".py",
   "mimetype": "text/x-python",
   "name": "python",
   "nbconvert_exporter": "python",
   "pygments_lexer": "ipython3",
   "version": "3.8.8"
  }
 },
 "nbformat": 4,
 "nbformat_minor": 5
}
